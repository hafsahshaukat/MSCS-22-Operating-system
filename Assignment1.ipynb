{
  "nbformat": 4,
  "nbformat_minor": 0,
  "metadata": {
    "colab": {
      "provenance": []
    },
    "kernelspec": {
      "name": "python3",
      "display_name": "Python 3"
    },
    "language_info": {
      "name": "python"
    }
  },
  "cells": [
    {
      "cell_type": "markdown",
      "source": [
        "**Hafsah Shaukat**\n",
        "**MTN-22-14014**\n"
      ],
      "metadata": {
        "id": "EpWSUyDL-vua"
      }
    },
    {
      "cell_type": "markdown",
      "source": [
        "**Chapter 2**"
      ],
      "metadata": {
        "id": "Ur2cQs-N7Bsr"
      }
    },
    {
      "cell_type": "markdown",
      "source": [
        " **Problem 2.2**:Store a message in a variable, and print that message . Then change the value of your variable to a new message, and print the new message .\n"
      ],
      "metadata": {
        "id": "X5GsEU9C7xXk"
      }
    },
    {
      "cell_type": "code",
      "execution_count": null,
      "metadata": {
        "colab": {
          "base_uri": "https://localhost:8080/"
        },
        "id": "f6crPypL8Ljy",
        "outputId": "7e54d4f8-51b2-4a5f-cdf1-69c646467d59"
      },
      "outputs": [
        {
          "output_type": "stream",
          "name": "stdout",
          "text": [
            "Hello its 2.2 try it yourself\n",
            "Hello its phython\n"
          ]
        }
      ],
      "source": [
        "#Problem 2.2\n",
        "msg_hafsah=\"Hello its 2.2 try it yourself\"\n",
        "print(msg_hafsah)\n",
        "msg_hafsah=\"Hello its phython\"\n",
        "print(msg_hafsah)"
      ]
    },
    {
      "cell_type": "markdown",
      "source": [
        "**Problem 2.4:** Store a person’s name in a variable, and then print that person’s name in lowercase, uppercase, and titlecase ."
      ],
      "metadata": {
        "id": "O4KdGe0A8Bz0"
      }
    },
    {
      "cell_type": "code",
      "source": [
        "#Problem 2.4\n",
        "name_hafsah=\"hafsah shaukat\"\n",
        "print(name_hafsah.lower())\n",
        "print(name_hafsah.upper())\n",
        "print(name_hafsah.title())\n"
      ],
      "metadata": {
        "colab": {
          "base_uri": "https://localhost:8080/"
        },
        "id": "JzPMT04h8_-K",
        "outputId": "4017a89d-e51a-441a-9670-5581dad68d85"
      },
      "execution_count": null,
      "outputs": [
        {
          "output_type": "stream",
          "name": "stdout",
          "text": [
            "hafsah shaukat\n",
            "HAFSAH SHAUKAT\n",
            "Hafsah Shaukat\n"
          ]
        }
      ]
    },
    {
      "cell_type": "markdown",
      "source": [
        "**Problem 2.7:**Store a person’s name, and include some whitespace characters at the beginning and end of the name . Make sure you use each character combination, \"\\t\" and \"\\n\", at least once ."
      ],
      "metadata": {
        "id": "3oJRSGXd8K6X"
      }
    },
    {
      "cell_type": "code",
      "source": [
        "#Problem 2.7\n",
        "name_hafsah = \"\\tHafsah Shaukat\\n\"\n",
        "#output without any change\n",
        "print(\"Name:\")\n",
        "print(name_hafsah)\n",
        "# Using lstrip()\n",
        "print(\"\\nUsing lstrip():\")\n",
        "print(name_hafsah.lstrip())\n",
        "# Using rstrip()\n",
        "print(\"\\nUsing rstrip():\")\n",
        "print(name_hafsah.rstrip())\n",
        "# Using rstrip()\n",
        "print(\"\\nUsing strip():\")\n",
        "print(name_hafsah.strip())"
      ],
      "metadata": {
        "colab": {
          "base_uri": "https://localhost:8080/"
        },
        "id": "Ti9fiTkqAsml",
        "outputId": "ba0e5094-7469-4208-dbce-b896dcb9afd4"
      },
      "execution_count": null,
      "outputs": [
        {
          "output_type": "stream",
          "name": "stdout",
          "text": [
            "Name:\n",
            "\tHafsah Shaukat\n",
            "\n",
            "\n",
            "Using lstrip():\n",
            "Hafsah Shaukat\n",
            "\n",
            "\n",
            "Using rstrip():\n",
            "\tHafsah Shaukat\n",
            "\n",
            "Using strip():\n",
            "Hafsah Shaukat\n"
          ]
        }
      ]
    },
    {
      "cell_type": "markdown",
      "source": [
        "**Chapter 3**"
      ],
      "metadata": {
        "id": "2OnW9Jty7LJo"
      }
    },
    {
      "cell_type": "markdown",
      "source": [
        "**Problem 3.4**:If you could invite anyone, living or deceased, to dinner, who would you invite? Make a list that includes at least three people you’d like to invite to dinner . Then use your list to print a message to each person, inviting them to dinner . "
      ],
      "metadata": {
        "id": "BoWIVgQN8Sko"
      }
    },
    {
      "cell_type": "code",
      "source": [
        "#Problem 3.4\n",
        "guestlist_hafsah = ['Ayesha', 'Anum', 'Kiran']\n",
        "\n",
        "print(guestlist_hafsah[0] + \", please come to dinner.\")\n",
        "print(guestlist_hafsah[1] + \", please come to dinner.\")\n",
        "print(guestlist_hafsah[2] + \", please come to dinner.\")"
      ],
      "metadata": {
        "colab": {
          "base_uri": "https://localhost:8080/"
        },
        "id": "CkbvyBDFCBMk",
        "outputId": "02d91d0d-8277-4c8d-8148-d4ed9e8431ab"
      },
      "execution_count": 3,
      "outputs": [
        {
          "output_type": "stream",
          "name": "stdout",
          "text": [
            "Ayesha, please come to dinner.\n",
            "Anum, please come to dinner.\n",
            "Kiran, please come to dinner.\n"
          ]
        }
      ]
    },
    {
      "cell_type": "markdown",
      "source": [
        "**Problem 3.5:**You just heard that one of your guests can’t make the dinner, so you need to send out a new set of invitations . You’ll have to think of someone else to invite .\n",
        " **Part1:**\tStart with your program from Exercise 3-4 . Add a print statement at the end of your program stating the name of the guest who can’t make it .\n",
        "  **Part2:**\t\tModify your list, replacing the name of the guest who can’t make it with the name of the new person you are inviting .\n",
        "   **Part3:**\t\tPrint a second set of invitation messages, one for each person who is still in your list . "
      ],
      "metadata": {
        "id": "Jjv6mYIx8crH"
      }
    },
    {
      "cell_type": "code",
      "source": [
        "#Problem 3.5\n",
        "#1st part\n",
        "guestlist_hafsah = ['Ayesha', 'Anum', 'Kiran']\n",
        "\n",
        "print(guestlist_hafsah[0] + \", please come to dinner.\")\n",
        "print(guestlist_hafsah[1] + \", please come to dinner.\")\n",
        "print(guestlist_hafsah[2] + \", please come to dinner.\\n\")\n",
        "print(guestlist_hafsah[1] + \", can't make it to dinner.\\n\")\n",
        "\n",
        "#2nd part\n",
        "del(guestlist_hafsah[1])\n",
        "guestlist_hafsah.insert(1, 'Mahnoor')\n",
        "\n",
        "#3rd part\n",
        "\n",
        "print(guestlist_hafsah[0] + \", please come to dinner.\")\n",
        "print(guestlist_hafsah[1] + \", please come to dinner.\")\n",
        "print(guestlist_hafsah[2] + \", please come to dinner.\")"
      ],
      "metadata": {
        "colab": {
          "base_uri": "https://localhost:8080/"
        },
        "id": "l4zoH9BDDTJP",
        "outputId": "88c1cba6-480c-40d3-c1ba-0c93b0245b01"
      },
      "execution_count": 6,
      "outputs": [
        {
          "output_type": "stream",
          "name": "stdout",
          "text": [
            "Ayesha, please come to dinner.\n",
            "Anum, please come to dinner.\n",
            "Kiran, please come to dinner.\n",
            "\n",
            "Anum, can't make it to dinner.\n",
            "\n",
            "Ayesha, please come to dinner.\n",
            "Mahnoor, please come to dinner.\n",
            "Kiran, please come to dinner.\n"
          ]
        }
      ]
    },
    {
      "cell_type": "markdown",
      "source": [
        "**Problem 3.6**You just found a bigger dinner table, so now more space is available . Think of three more guests to invite to dinner .\n",
        " **Part1**\tStart with your program from Exercise 3-4 or Exercise 3-5 . Add a print statement to the end of your program informing people that you found a bigger dinner table .\n",
        "**Part2**:Use insert() to add one new guest to the beginning of your list .\n",
        "**Part3**\tUse insert() to add one new guest to the middle of your list .\n",
        "**Part4** •\tUse append() to add one new guest to the end of your list . \n",
        "**Part5**•\tPrint a new set of invitation messages, one for each person in your list .\n",
        "\n",
        "**Problem 3.7**\n",
        "You just found out that your new dinner table won’t arrive in time for the dinner, and you have space for only two guests . \n",
        "**Part1**Start with your program from Exercise 3-6 . Add a new line that prints a message saying that you can invite only two people for dinner . \n",
        "**Part2**\tUse pop() to remove guests from your list one at a time until only two names remain in your list . Each time you pop a name from your list, print a message to that person letting them know you’re sorry you can’t invite them to dinner . \n",
        "**Part3**\tPrint a message to each of the two people still on your list, letting them know they’re still invited . \n",
        "**Part4**\tUse del to remove the last two names from your list, so you have an empty list . Print your list to make sure you actually have an empty list at the end of your program .\n"
      ],
      "metadata": {
        "id": "rKxKyvSn9DO-"
      }
    },
    {
      "cell_type": "code",
      "source": [
        "#Problem 3.6\n",
        "guestlist_hafsah = ['Ayesha', 'Anum', 'Kiran']\n",
        "\n",
        "print(guestlist_hafsah[0] + \", please come to dinner.\")\n",
        "print(guestlist_hafsah[1] + \", please come to dinner.\")\n",
        "print(guestlist_hafsah[2] + \", please come to dinner.\\n\")\n",
        "print(guestlist_hafsah[1] + \", can't make it to dinner.\\n\")\n",
        "\n",
        "del(guestlist_hafsah[1])\n",
        "guestlist_hafsah.insert(1, 'Mahnoor')\n",
        "\n",
        "print(guestlist_hafsah[0] + \", please come to dinner.\")\n",
        "print(guestlist_hafsah[1] + \", please come to dinner.\")\n",
        "print(guestlist_hafsah[2] + \", please come to dinner.\")\n",
        "\n",
        "#1st part\n",
        "print(\"We got a bigger dinner table!\\n\")\n",
        "#2nd part add guest at start of list\n",
        "guestlist_hafsah.insert(0, 'Rida')\n",
        "\n",
        "#3rd part add guest at middle of list\n",
        "guestlist_hafsah.insert(2, 'Maieda')\n",
        "\n",
        "#4th part add guest at end of list\n",
        "guestlist_hafsah.append('Tayyaba')\n",
        "\n",
        "#5th part\n",
        "\n",
        "print(guestlist_hafsah[0] + \", please come to dinner.\")\n",
        "print(guestlist_hafsah[1] + \", please come to dinner.\")\n",
        "print(guestlist_hafsah[2] + \", please come to dinner.\")\n",
        "print(guestlist_hafsah[3] + \", please come to dinner.\")\n",
        "print(guestlist_hafsah[4] + \", please come to dinner.\")\n",
        "print(guestlist_hafsah[5] + \", please come to dinner.\")\n",
        "\n",
        "#Problem 3.7\n",
        "#1st part\n",
        "print(\"\\nI can only invite two people to dinner.\\n\")\n",
        "\n",
        "#2nd part\n",
        "guest_hafsah = guestlist_hafsah.pop()\n",
        "print(\"Sorry, \" + guest_hafsah + \" there's no space so i cant invite you to dinner.\")\n",
        "guest_hafsah = guestlist_hafsah.pop()\n",
        "print(\"Sorry, \" + guest_hafsah + \" there's no space so i cant invite you to dinner.\")\n",
        "guest_hafsah = guestlist_hafsah.pop()\n",
        "print(\"Sorry, \" + guest_hafsah + \" there's no space so i cant invite you to dinner.\")\n",
        "guest_hafsah = guestlist_hafsah.pop()\n",
        "print(\"Sorry, \" + guest_hafsah + \" there's no space so i cant invite you to dinner.\\n\")\n",
        "\n",
        "#3rd part\n",
        "print(guestlist_hafsah[0] + \", please come to dinner.\")\n",
        "print(guestlist_hafsah[1] + \", please come to dinner.\")\n",
        "\n",
        "#4th part\n",
        "del(guestlist_hafsah[0])\n",
        "del(guestlist_hafsah[0])\n",
        "print(guestlist_hafsah)"
      ],
      "metadata": {
        "colab": {
          "base_uri": "https://localhost:8080/"
        },
        "id": "mkqV1EUYGrdZ",
        "outputId": "b2ec31f8-fc1e-4e76-f480-ea68e810e302"
      },
      "execution_count": 9,
      "outputs": [
        {
          "output_type": "stream",
          "name": "stdout",
          "text": [
            "Ayesha, please come to dinner.\n",
            "Anum, please come to dinner.\n",
            "Kiran, please come to dinner.\n",
            "\n",
            "Anum, can't make it to dinner.\n",
            "\n",
            "Ayesha, please come to dinner.\n",
            "Mahnoor, please come to dinner.\n",
            "Kiran, please come to dinner.\n",
            "We got a bigger dinner table!\n",
            "\n",
            "Rida, please come to dinner.\n",
            "Ayesha, please come to dinner.\n",
            "Maieda, please come to dinner.\n",
            "Mahnoor, please come to dinner.\n",
            "Kiran, please come to dinner.\n",
            "Tayyaba, please come to dinner.\n",
            "\n",
            "I can only invite two people to dinner.\n",
            "\n",
            "Sorry, Tayyaba there's no space so i cant invite you to dinner.\n",
            "Sorry, Kiran there's no space so i cant invite you to dinner.\n",
            "Sorry, Mahnoor there's no space so i cant invite you to dinner.\n",
            "Sorry, Maieda there's no space so i cant invite you to dinner.\n",
            "\n",
            "Rida, please come to dinner.\n",
            "Ayesha, please come to dinner.\n",
            "[]\n"
          ]
        }
      ]
    },
    {
      "cell_type": "markdown",
      "source": [
        "**Chapter 4**"
      ],
      "metadata": {
        "id": "arNoAQY57Prg"
      }
    },
    {
      "cell_type": "markdown",
      "source": [
        "**4-1.** Pizzas: Think of at least three kinds of your favorite pizza . Store these pizza names in a list, and then use a for loop to print the name of each pizza . \n",
        "•\tModify your for loop to print a sentence using the name of the pizza instead of printing just the name of the pizza . For each pizza you should have one line of output containing a simple statement like I like pepperoni pizza . \n",
        "•\tAdd a line at the end of your program, outside the for loop, that states how much you like pizza . The output should consist of three or more lines about the kinds of pizza you like and then an additional sentence, such as I really love pizza! "
      ],
      "metadata": {
        "id": "Y0d59Phf-ZDP"
      }
    },
    {
      "cell_type": "code",
      "source": [
        "#Problem 4.1\n",
        "pizza_hafsah = ['supreme', 'fajita', 'bonfire']\n",
        "for pizza in pizza_hafsah:\n",
        "    print(pizza)\n",
        "print(\"\\n\")\n",
        "for pizza in pizza_hafsah:\n",
        "    print(\"I like \" + pizza + \" pizza.\")\n",
        "print(\"\\nI really love pizza\")"
      ],
      "metadata": {
        "id": "GM6wfzLwKOtp",
        "colab": {
          "base_uri": "https://localhost:8080/"
        },
        "outputId": "e50caeac-b73f-4613-a89b-877b593d1300"
      },
      "execution_count": null,
      "outputs": [
        {
          "output_type": "stream",
          "name": "stdout",
          "text": [
            "supreme\n",
            "fajita\n",
            "bonfire\n",
            "\n",
            "\n",
            "I like supreme pizza.\n",
            "I like fajita pizza.\n",
            "I like bonfire pizza.\n",
            "\n",
            "I really love pizza\n"
          ]
        }
      ]
    },
    {
      "cell_type": "markdown",
      "source": [
        "**4-2.** Animals: Think of at least three different animals that have a common characteristic . Store the names of these animals in a list, and then use a for loop to print out the name of each animal . \n",
        "•\tModify your program to print a statement about each animal, such as A dog would make a great pet. \n",
        "•\tAdd a line at the end of your program stating what these animals have in common . You could print a sentence such as Any of these animals would make a great pet!"
      ],
      "metadata": {
        "id": "CC410N3I-e21"
      }
    },
    {
      "cell_type": "code",
      "source": [
        "#Problem 4.2\n",
        "animals_hafsah = [\"cat\", \"rabbit\", \"parrot\"]\n",
        "for animal in animals_hafsah:\n",
        "    print(animal)\n",
        "for animal in animals_hafsah:\n",
        "    print(\"A \" + animal + \" would make a great pet.\")\n",
        "print(\"\\nAny of these would animals make a great pet!\")"
      ],
      "metadata": {
        "colab": {
          "base_uri": "https://localhost:8080/"
        },
        "id": "PPJW7cekjDSP",
        "outputId": "4f63c8ea-7cbb-4cbf-f537-3c9e7661eb34"
      },
      "execution_count": null,
      "outputs": [
        {
          "output_type": "stream",
          "name": "stdout",
          "text": [
            "cat\n",
            "rabbit\n",
            "parrot\n",
            "A cat would make a great pet.\n",
            "A rabbit would make a great pet.\n",
            "A parrot would make a great pet.\n",
            "\n",
            "Any of these would animals make a great pet!\n"
          ]
        }
      ]
    }
  ]
}